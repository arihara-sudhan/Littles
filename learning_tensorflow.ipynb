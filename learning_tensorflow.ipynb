{
  "cells": [
    {
      "cell_type": "code",
      "source": [
        "import tensorflow as tf"
      ],
      "metadata": {
        "id": "rlp_yqYsXhf_"
      },
      "execution_count": 9,
      "outputs": []
    },
    {
      "cell_type": "code",
      "source": [
        "scalar = tf.constant(1)\n",
        "vector = tf.constant([1,2,3,4])\n",
        "two_d_mat = tf.constant([[1,2,3,4],[5,6,7,8]])\n",
        "three_d_mat = tf.constant([[[1,2,3], [1,2,4],],[[1,2,3], [1,2,4],],[[1,2,3], [1,2,4],]])\n",
        "print(scalar, vector, two_d_mat, three_d_mat)"
      ],
      "metadata": {
        "id": "OgyZG0YLYVps",
        "outputId": "14673244-3117-4222-f662-09a94dec65cb",
        "colab": {
          "base_uri": "https://localhost:8080/"
        }
      },
      "execution_count": 10,
      "outputs": [
        {
          "output_type": "stream",
          "name": "stdout",
          "text": [
            "tf.Tensor(1, shape=(), dtype=int32) tf.Tensor([1 2 3 4], shape=(4,), dtype=int32) tf.Tensor(\n",
            "[[1 2 3 4]\n",
            " [5 6 7 8]], shape=(2, 4), dtype=int32) tf.Tensor(\n",
            "[[[1 2 3]\n",
            "  [1 2 4]]\n",
            "\n",
            " [[1 2 3]\n",
            "  [1 2 4]]\n",
            "\n",
            " [[1 2 3]\n",
            "  [1 2 4]]], shape=(3, 2, 3), dtype=int32)\n"
          ]
        }
      ]
    },
    {
      "cell_type": "code",
      "source": [
        "vector = tf.Variable([1,2,3])\n",
        "vector.assign([4,5,6])\n",
        "print(vector)"
      ],
      "metadata": {
        "id": "7RpFvIpJYW16",
        "outputId": "459337d1-a921-4edc-8341-5ef1a18d8fd3",
        "colab": {
          "base_uri": "https://localhost:8080/"
        }
      },
      "execution_count": 12,
      "outputs": [
        {
          "output_type": "stream",
          "name": "stdout",
          "text": [
            "<tf.Variable 'Variable:0' shape=(3,) dtype=int32, numpy=array([4, 5, 6], dtype=int32)>\n"
          ]
        }
      ]
    },
    {
      "cell_type": "code",
      "source": [
        "a = tf.constant(2)\n",
        "b = tf.constant(3)\n",
        "print(tf.add(a,b))\n",
        "print(tf.multiply(a,b))"
      ],
      "metadata": {
        "id": "XxOoOXrfYnPA",
        "outputId": "5d9e05cc-ef7a-4f13-8acc-4df15269a3fc",
        "colab": {
          "base_uri": "https://localhost:8080/"
        }
      },
      "execution_count": 13,
      "outputs": [
        {
          "output_type": "stream",
          "name": "stdout",
          "text": [
            "tf.Tensor(5, shape=(), dtype=int32)\n",
            "tf.Tensor(6, shape=(), dtype=int32)\n"
          ]
        }
      ]
    },
    {
      "cell_type": "code",
      "source": [],
      "metadata": {
        "id": "uNZmk-66Yz4f"
      },
      "execution_count": null,
      "outputs": []
    }
  ],
  "metadata": {
    "colab": {
      "name": "Welcome to Colaboratory",
      "provenance": []
    },
    "kernelspec": {
      "display_name": "Python 3",
      "name": "python3"
    }
  },
  "nbformat": 4,
  "nbformat_minor": 0
}